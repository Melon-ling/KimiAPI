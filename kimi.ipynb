{
 "cells": [
  {
   "cell_type": "code",
   "execution_count": 1,
   "id": "d4ed5356",
   "metadata": {},
   "outputs": [
    {
     "name": "stdout",
     "output_type": "stream",
     "text": [
      "Requirement already satisfied: pdfplumber in d:\\anaconda3\\envs\\kimiai\\lib\\site-packages (0.11.7)\n",
      "Requirement already satisfied: tqdm in d:\\anaconda3\\envs\\kimiai\\lib\\site-packages (4.67.1)\n",
      "Requirement already satisfied: pdfminer.six==20250506 in d:\\anaconda3\\envs\\kimiai\\lib\\site-packages (from pdfplumber) (20250506)\n",
      "Requirement already satisfied: Pillow>=9.1 in d:\\anaconda3\\envs\\kimiai\\lib\\site-packages (from pdfplumber) (11.2.1)\n",
      "Requirement already satisfied: pypdfium2>=4.18.0 in d:\\anaconda3\\envs\\kimiai\\lib\\site-packages (from pdfplumber) (4.30.1)\n",
      "Requirement already satisfied: charset-normalizer>=2.0.0 in d:\\anaconda3\\envs\\kimiai\\lib\\site-packages (from pdfminer.six==20250506->pdfplumber) (3.4.2)\n",
      "Requirement already satisfied: cryptography>=36.0.0 in d:\\anaconda3\\envs\\kimiai\\lib\\site-packages (from pdfminer.six==20250506->pdfplumber) (45.0.4)\n",
      "Requirement already satisfied: colorama in d:\\anaconda3\\envs\\kimiai\\lib\\site-packages (from tqdm) (0.4.6)\n",
      "Requirement already satisfied: cffi>=1.14 in d:\\anaconda3\\envs\\kimiai\\lib\\site-packages (from cryptography>=36.0.0->pdfminer.six==20250506->pdfplumber) (1.17.1)\n",
      "Requirement already satisfied: pycparser in d:\\anaconda3\\envs\\kimiai\\lib\\site-packages (from cffi>=1.14->cryptography>=36.0.0->pdfminer.six==20250506->pdfplumber) (2.22)\n",
      "Note: you may need to restart the kernel to use updated packages.\n",
      "Requirement already satisfied: pandas in d:\\anaconda3\\envs\\kimiai\\lib\\site-packages (2.2.3)\n",
      "Requirement already satisfied: tqdm in d:\\anaconda3\\envs\\kimiai\\lib\\site-packages (4.67.1)\n",
      "Requirement already satisfied: tenacity in d:\\anaconda3\\envs\\kimiai\\lib\\site-packages (9.1.2)\n",
      "Requirement already satisfied: ipython in d:\\anaconda3\\envs\\kimiai\\lib\\site-packages (9.3.0)\n",
      "Requirement already satisfied: numpy>=1.26.0 in d:\\anaconda3\\envs\\kimiai\\lib\\site-packages (from pandas) (2.2.5)\n",
      "Requirement already satisfied: python-dateutil>=2.8.2 in d:\\anaconda3\\envs\\kimiai\\lib\\site-packages (from pandas) (2.9.0.post0)\n",
      "Requirement already satisfied: pytz>=2020.1 in d:\\anaconda3\\envs\\kimiai\\lib\\site-packages (from pandas) (2024.1)\n",
      "Requirement already satisfied: tzdata>=2022.7 in d:\\anaconda3\\envs\\kimiai\\lib\\site-packages (from pandas) (2025.2)\n",
      "Requirement already satisfied: colorama in d:\\anaconda3\\envs\\kimiai\\lib\\site-packages (from tqdm) (0.4.6)\n",
      "Requirement already satisfied: decorator in d:\\anaconda3\\envs\\kimiai\\lib\\site-packages (from ipython) (5.2.1)\n",
      "Requirement already satisfied: ipython-pygments-lexers in d:\\anaconda3\\envs\\kimiai\\lib\\site-packages (from ipython) (1.1.1)\n",
      "Requirement already satisfied: jedi>=0.16 in d:\\anaconda3\\envs\\kimiai\\lib\\site-packages (from ipython) (0.19.2)\n",
      "Requirement already satisfied: matplotlib-inline in d:\\anaconda3\\envs\\kimiai\\lib\\site-packages (from ipython) (0.1.7)\n",
      "Requirement already satisfied: prompt_toolkit<3.1.0,>=3.0.41 in d:\\anaconda3\\envs\\kimiai\\lib\\site-packages (from ipython) (3.0.51)\n",
      "Requirement already satisfied: pygments>=2.4.0 in d:\\anaconda3\\envs\\kimiai\\lib\\site-packages (from ipython) (2.19.2)\n",
      "Requirement already satisfied: stack_data in d:\\anaconda3\\envs\\kimiai\\lib\\site-packages (from ipython) (0.6.3)\n",
      "Requirement already satisfied: traitlets>=5.13.0 in d:\\anaconda3\\envs\\kimiai\\lib\\site-packages (from ipython) (5.14.3)\n",
      "Requirement already satisfied: wcwidth in d:\\anaconda3\\envs\\kimiai\\lib\\site-packages (from prompt_toolkit<3.1.0,>=3.0.41->ipython) (0.2.13)\n",
      "Requirement already satisfied: parso<0.9.0,>=0.8.4 in d:\\anaconda3\\envs\\kimiai\\lib\\site-packages (from jedi>=0.16->ipython) (0.8.4)\n",
      "Requirement already satisfied: six>=1.5 in d:\\anaconda3\\envs\\kimiai\\lib\\site-packages (from python-dateutil>=2.8.2->pandas) (1.17.0)\n",
      "Requirement already satisfied: executing>=1.2.0 in d:\\anaconda3\\envs\\kimiai\\lib\\site-packages (from stack_data->ipython) (2.2.0)\n",
      "Requirement already satisfied: asttokens>=2.1.0 in d:\\anaconda3\\envs\\kimiai\\lib\\site-packages (from stack_data->ipython) (3.0.0)\n",
      "Requirement already satisfied: pure_eval in d:\\anaconda3\\envs\\kimiai\\lib\\site-packages (from stack_data->ipython) (0.2.3)\n",
      "Note: you may need to restart the kernel to use updated packages.\n",
      "Requirement already satisfied: PyMuPDF in d:\\anaconda3\\envs\\kimiai\\lib\\site-packages (1.26.1)\n",
      "Note: you may need to restart the kernel to use updated packages.\n"
     ]
    }
   ],
   "source": [
    "%pip install pdfplumber tqdm\n",
    "%pip install pandas tqdm tenacity ipython\n",
    "%pip install PyMuPDF"
   ]
  },
  {
   "cell_type": "code",
   "execution_count": 1,
   "id": "bb8e5480-3ed3-4bdb-a828-8daf9b9b6e55",
   "metadata": {},
   "outputs": [],
   "source": [
    "from openai import OpenAI\n",
    "from IPython.display import Markdown, display, HTML\n",
    "import pandas as pd\n",
    "from tenacity import retry, stop_after_attempt, wait_exponential\n",
    "import openpyxl\n",
    "import json\n",
    "import os\n",
    "import time\n",
    "import shutil\n",
    "from pathlib import Path\n",
    "import os\n",
    "import pdfplumber\n",
    "from tqdm import tqdm\n"
   ]
  },
  {
   "cell_type": "code",
   "execution_count": 2,
   "id": "09e45141",
   "metadata": {},
   "outputs": [],
   "source": [
    "# 读取包含敏感信息（如 API 密钥）的文本文件\n",
    "def load_info(file_name):\n",
    "    try:\n",
    "        with open(file_name + \".txt\", \"r\", encoding='utf-8') as file:\n",
    "            info = file.read().strip()\n",
    "        return info\n",
    "    except FileNotFoundError:\n",
    "        raise Exception(\"{}.txt not found. Please create it.\".format(file_name))\n",
    "    except Exception as e:\n",
    "        raise Exception(f\"Error reading info: {str(e)}\")\n",
    "\n",
    "# 初始化 Moonshot API 客户端。  \n",
    "client = OpenAI(\n",
    "        # put your API in kimiapi.txt\n",
    "        api_key=load_info(\"kimiapi\"),\n",
    "        base_url = \"https://api.moonshot.cn/v1\",\n",
    ")\n",
    "# 将 API 响应的元数据（如完成原因、令牌使用量）记录到 records.txt 并打印。\n",
    "def write_content(chat_completion, filename):\n",
    "    line = f\"{filename}\\n Finished reason: {chat_completion.choices[0].finish_reason}, completion token: {chat_completion.usage.completion_tokens}, total token: {chat_completion.usage.total_tokens}.\\n\"     \n",
    "    with open('records.txt', 'a') as f:        \n",
    "        f.write(line)\n",
    "    print(line)   \n",
    "# 向 Moonshot API 发送请求，处理 PDF 内容并返回 JSON 格式的响应。\n",
    "def get_openai_response(file_content, prompt, filename, model = \"moonshot-v1-32k\", max_tokens = 2500):   \n",
    "    \n",
    "    chat_completion = client.chat.completions.create(\n",
    "    messages=[\n",
    "        {\"role\": \"system\", \"content\": file_content},\n",
    "        {\"role\": \"system\", \"content\": prompt}, \n",
    "        {\"role\": \"user\", \"content\": 'Please read the pdf file and return the information in json format. Thank you.'}, \n",
    "    ],\n",
    "    model= model, # \"gpt-3.5-turbo\", #\"gpt-4o-mini\",\n",
    "    temperature=0.3, # smaller is more precise, larger gets creative, 0.3 is the default and works well for kimi\n",
    "    max_tokens=max_tokens\n",
    "    )\n",
    "    write_content(chat_completion, filename)   \n",
    "     \n",
    "    return chat_completion.choices[0].message.content\n",
    "    \n",
    "def save_to_excel(json_data, filename):\n",
    "    number = filename.split('.')[0]\n",
    "    data = json.loads(json_data)\n",
    "    all_v = []\n",
    "    for item in data.values():            \n",
    "        if isinstance(item, list):\n",
    "            all_v.extend(item)\n",
    "        elif isinstance(item, dict):\n",
    "            all_v.extend([item])       \n",
    "    df = pd.DataFrame(all_v)\n",
    "    df['FileNumber'] = number\n",
    "\n",
    "    if not os.path.exists(excel_file):\n",
    "        df.to_excel(excel_file, index=False, sheet_name=filename)\n",
    "        print(f\"Created a new Excel file at {excel_file}\")\n",
    "    else:\n",
    "        with pd.ExcelWriter(excel_file, mode='a', engine='openpyxl', if_sheet_exists='overlay') as writer:\n",
    "            df.to_excel(writer, index=False, sheet_name=filename)            \n",
    "    print(f\"Data saved successfully to {filename}\")\n",
    "        \n",
    "# 处理单个文件，调用 API 获取响应，保存到 Excel，并将 JSON 响应保存到文件。\n",
    "def process_file(file_content,filename):\n",
    "    try:\n",
    "        json_response = get_openai_response(file_content, prompt, filename)\n",
    "        save_to_excel(json_response, filename)\n",
    "        return True\n",
    "    except Exception as e:\n",
    "        print(f\"{str(e)}, retrying with 128k model...\")        \n",
    "        try:\n",
    "            json_response = get_openai_response(file_content, prompt, filename, \"moonshot-v1-128k\", 5000)\n",
    "            save_to_excel(json_response, filename)\n",
    "            return True\n",
    "        except Exception as e:\n",
    "            print(f\"Error {str(e)} with 128k model...\")\n",
    "                \n",
    "    with open(f\"temp_output/{filename}.json\", \"w\", encoding=\"utf-8\") as f:\n",
    "        f.write(json_response)  \n",
    "\n",
    "# 使用 pdfplumber 本地读取 PDF 文件\n",
    "def read_pdf(file_path):\n",
    "    try:\n",
    "        with pdfplumber.open(file_path) as pdf:\n",
    "            text = \"\"\n",
    "            for page in pdf.pages:\n",
    "                text += page.extract_text() or \"\"\n",
    "        return text.strip()\n",
    "    except Exception as e:\n",
    "        raise Exception(f\"读取 PDF 文件 {file_path} 失败: {str(e)}\")\n",
    "\n",
    "# 显示动态HTML进度条\n",
    "def show_progress_bar(progress, total, elapsed=None, remaining=None):\n",
    "    \"\"\"显示动态HTML进度条\"\"\"\n",
    "    progress_html = f\"\"\"\n",
    "    <div style=\"width:100%;border:1px solid #ccc;padding:3px;margin-bottom:10px\">\n",
    "        <div style=\"width:{progress/total*100}%;background:#4CAF50;height:20px\"></div>\n",
    "    </div>\n",
    "    <p style=\"font-family:Arial;font-size:12px\">\n",
    "        进度: {progress}/{total} | 已用时: {elapsed:.1f}s | 剩余: {remaining:.1f}s\n",
    "    </p>\n",
    "    \"\"\"\n",
    "    display(HTML(progress_html))  # 使用已导入的HTML\n",
    "\n",
    "# 生成Markdown格式的输出\n",
    "def generate_markdown_output(content, is_error=False):\n",
    "    \n",
    "    style = \"color:red;\" if is_error else \"color:green;\"\n",
    "    icon = \"❌\" if is_error else \"✅\"\n",
    "    display(Markdown(f\"<span style='{style}'>{icon} {content}</span>\"))"
   ]
  },
  {
   "cell_type": "code",
   "execution_count": 3,
   "id": "4fc8f124",
   "metadata": {},
   "outputs": [
    {
     "data": {
      "text/markdown": [
       "## 已加载文件列表\n",
       "| 文件名 | 类型 |\n",
       "|--------|------|\n",
       "| 1-s2.0-S0269749118332950-mmc1.pdf | supplementary material |\n",
       "| 1-s2.0-S0269749119345816-mmc1.pdf | supplementary material |\n",
       "| 11356_1_paper.pdf | paper.pdf |\n",
       "| 11356_paper.pdf | paper.pdf |\n",
       "| 北京市再生水补水河流中抗生素的赋存特征及生态风险评估_武亚林.pdf | Chinese research paper |\n",
       "| 补充材料.pdf | supplementary material |\n",
       "| 补充材料1.pdf | supplementary material |\n",
       "| 补充来料2.pdf | supplementary material |\n"
      ],
      "text/plain": [
       "<IPython.core.display.Markdown object>"
      ]
     },
     "metadata": {},
     "output_type": "display_data"
    },
    {
     "data": {
      "text/markdown": [
       "<span style='color:green;'>✅ 成功加载 8 个文件</span>"
      ],
      "text/plain": [
       "<IPython.core.display.Markdown object>"
      ]
     },
     "metadata": {},
     "output_type": "display_data"
    },
    {
     "data": {
      "text/markdown": [
       "<span style='color:green;'>✅ 在 output/output3.xlsx 未找到现有 Excel 文件</span>"
      ],
      "text/plain": [
       "<IPython.core.display.Markdown object>"
      ]
     },
     "metadata": {},
     "output_type": "display_data"
    },
    {
     "name": "stderr",
     "output_type": "stream",
     "text": [
      "处理 PDF 文件:   0%|          | 0/8 [00:00<?, ?it/s]"
     ]
    },
    {
     "data": {
      "text/html": [
       "\n",
       "    <div style=\"width:100%;border:1px solid #ccc;padding:3px;margin-bottom:10px\">\n",
       "        <div style=\"width:12.5%;background:#4CAF50;height:20px\"></div>\n",
       "    </div>\n",
       "    <p style=\"font-family:Arial;font-size:12px\">\n",
       "        进度: 1/8 | 已用时: 0.1s | 剩余: 0.6s\n",
       "    </p>\n",
       "    "
      ],
      "text/plain": [
       "<IPython.core.display.HTML object>"
      ]
     },
     "metadata": {},
     "output_type": "display_data"
    },
    {
     "data": {
      "text/markdown": [
       "<span style='color:green;'>✅ 正在处理文件: 1-s2.0-S0269749118332950-mmc1.pdf (trimm\\1-s2.0-S0269749118332950-mmc1.pdf)</span>"
      ],
      "text/plain": [
       "<IPython.core.display.Markdown object>"
      ]
     },
     "metadata": {},
     "output_type": "display_data"
    },
    {
     "data": {
      "text/markdown": [
       "<span style='color:green;'>✅ 从 trimm\\1-s2.0-S0269749118332950-mmc1.pdf 读取 PDF 内容 (长度: 14760 字符)</span>"
      ],
      "text/plain": [
       "<IPython.core.display.Markdown object>"
      ]
     },
     "metadata": {},
     "output_type": "display_data"
    },
    {
     "name": "stdout",
     "output_type": "stream",
     "text": [
      "1-s2.0-S0269749118332950-mmc1.pdf\n",
      " Finished reason: length, completion token: 2500, total token: 10562.\n",
      "\n",
      "Expecting value: line 1 column 1 (char 0), retrying with 128k model...\n",
      "1-s2.0-S0269749118332950-mmc1.pdf\n",
      " Finished reason: stop, completion token: 1516, total token: 9578.\n",
      "\n",
      "Error Expecting value: line 1 column 1 (char 0) with 128k model...\n"
     ]
    },
    {
     "data": {
      "text/markdown": [
       "<span style='color:green;'>✅ 成功处理 1-s2.0-S0269749118332950-mmc1.pdf，耗时 84.29 秒</span>"
      ],
      "text/plain": [
       "<IPython.core.display.Markdown object>"
      ]
     },
     "metadata": {},
     "output_type": "display_data"
    },
    {
     "name": "stderr",
     "output_type": "stream",
     "text": [
      "处理 PDF 文件:  12%|█▎        | 1/8 [01:25<09:56, 85.21s/it]"
     ]
    },
    {
     "data": {
      "text/html": [
       "\n",
       "    <div style=\"width:100%;border:1px solid #ccc;padding:3px;margin-bottom:10px\">\n",
       "        <div style=\"width:25.0%;background:#4CAF50;height:20px\"></div>\n",
       "    </div>\n",
       "    <p style=\"font-family:Arial;font-size:12px\">\n",
       "        进度: 2/8 | 已用时: 85.3s | 剩余: 255.9s\n",
       "    </p>\n",
       "    "
      ],
      "text/plain": [
       "<IPython.core.display.HTML object>"
      ]
     },
     "metadata": {},
     "output_type": "display_data"
    },
    {
     "data": {
      "text/markdown": [
       "<span style='color:green;'>✅ 正在处理文件: 1-s2.0-S0269749119345816-mmc1.pdf (trimm\\1-s2.0-S0269749119345816-mmc1.pdf)</span>"
      ],
      "text/plain": [
       "<IPython.core.display.Markdown object>"
      ]
     },
     "metadata": {},
     "output_type": "display_data"
    },
    {
     "data": {
      "text/markdown": [
       "<span style='color:green;'>✅ 从 trimm\\1-s2.0-S0269749119345816-mmc1.pdf 读取 PDF 内容 (长度: 19508 字符)</span>"
      ],
      "text/plain": [
       "<IPython.core.display.Markdown object>"
      ]
     },
     "metadata": {},
     "output_type": "display_data"
    },
    {
     "name": "stdout",
     "output_type": "stream",
     "text": [
      "1-s2.0-S0269749119345816-mmc1.pdf\n",
      " Finished reason: stop, completion token: 1621, total token: 11221.\n",
      "\n",
      "Expecting value: line 1 column 1 (char 0), retrying with 128k model...\n",
      "1-s2.0-S0269749119345816-mmc1.pdf\n",
      " Finished reason: stop, completion token: 1884, total token: 11484.\n",
      "\n",
      "Created a new Excel file at output/output3.xlsx\n",
      "Data saved successfully to 1-s2.0-S0269749119345816-mmc1.pdf\n"
     ]
    },
    {
     "name": "stderr",
     "output_type": "stream",
     "text": [
      "d:\\anaconda3\\envs\\KimiAI\\Lib\\site-packages\\openpyxl\\workbook\\child.py:99: UserWarning: Title is more than 31 characters. Some applications may not be able to read the file\n",
      "  warnings.warn(\"Title is more than 31 characters. Some applications may not be able to read the file\")\n"
     ]
    },
    {
     "data": {
      "text/markdown": [
       "<span style='color:green;'>✅ 成功处理 1-s2.0-S0269749119345816-mmc1.pdf，耗时 157.19 秒</span>"
      ],
      "text/plain": [
       "<IPython.core.display.Markdown object>"
      ]
     },
     "metadata": {},
     "output_type": "display_data"
    },
    {
     "name": "stderr",
     "output_type": "stream",
     "text": [
      "处理 PDF 文件:  25%|██▌       | 2/8 [02:38<07:47, 77.96s/it]"
     ]
    },
    {
     "data": {
      "text/html": [
       "\n",
       "    <div style=\"width:100%;border:1px solid #ccc;padding:3px;margin-bottom:10px\">\n",
       "        <div style=\"width:37.5%;background:#4CAF50;height:20px\"></div>\n",
       "    </div>\n",
       "    <p style=\"font-family:Arial;font-size:12px\">\n",
       "        进度: 3/8 | 已用时: 158.2s | 剩余: 263.7s\n",
       "    </p>\n",
       "    "
      ],
      "text/plain": [
       "<IPython.core.display.HTML object>"
      ]
     },
     "metadata": {},
     "output_type": "display_data"
    },
    {
     "data": {
      "text/markdown": [
       "<span style='color:green;'>✅ 正在处理文件: 11356_1 (trimm\\11356_1_paper.pdf)</span>"
      ],
      "text/plain": [
       "<IPython.core.display.Markdown object>"
      ]
     },
     "metadata": {},
     "output_type": "display_data"
    },
    {
     "data": {
      "text/markdown": [
       "<span style='color:green;'>✅ 从 trimm\\11356_1_paper.pdf 读取 PDF 内容 (长度: 12593 字符)</span>"
      ],
      "text/plain": [
       "<IPython.core.display.Markdown object>"
      ]
     },
     "metadata": {},
     "output_type": "display_data"
    },
    {
     "name": "stdout",
     "output_type": "stream",
     "text": [
      "11356_1\n",
      " Finished reason: length, completion token: 2500, total token: 9521.\n",
      "\n",
      "Unterminated string starting at: line 246 column 7 (char 7781), retrying with 128k model...\n",
      "11356_1\n",
      " Finished reason: stop, completion token: 2385, total token: 9406.\n",
      "\n",
      "Data saved successfully to 11356_1\n"
     ]
    },
    {
     "name": "stderr",
     "output_type": "stream",
     "text": [
      "d:\\anaconda3\\envs\\KimiAI\\Lib\\site-packages\\openpyxl\\workbook\\child.py:99: UserWarning: Title is more than 31 characters. Some applications may not be able to read the file\n",
      "  warnings.warn(\"Title is more than 31 characters. Some applications may not be able to read the file\")\n"
     ]
    },
    {
     "data": {
      "text/markdown": [
       "<span style='color:green;'>✅ 成功处理 11356_1，耗时 253.73 秒</span>"
      ],
      "text/plain": [
       "<IPython.core.display.Markdown object>"
      ]
     },
     "metadata": {},
     "output_type": "display_data"
    },
    {
     "name": "stderr",
     "output_type": "stream",
     "text": [
      "处理 PDF 文件:  38%|███▊      | 3/8 [04:14<07:12, 86.45s/it]"
     ]
    },
    {
     "data": {
      "text/html": [
       "\n",
       "    <div style=\"width:100%;border:1px solid #ccc;padding:3px;margin-bottom:10px\">\n",
       "        <div style=\"width:50.0%;background:#4CAF50;height:20px\"></div>\n",
       "    </div>\n",
       "    <p style=\"font-family:Arial;font-size:12px\">\n",
       "        进度: 4/8 | 已用时: 254.7s | 剩余: 254.7s\n",
       "    </p>\n",
       "    "
      ],
      "text/plain": [
       "<IPython.core.display.HTML object>"
      ]
     },
     "metadata": {},
     "output_type": "display_data"
    },
    {
     "data": {
      "text/markdown": [
       "<span style='color:green;'>✅ 正在处理文件: 11356 (trimm\\11356_paper.pdf)</span>"
      ],
      "text/plain": [
       "<IPython.core.display.Markdown object>"
      ]
     },
     "metadata": {},
     "output_type": "display_data"
    },
    {
     "data": {
      "text/markdown": [
       "<span style='color:green;'>✅ 从 trimm\\11356_paper.pdf 读取 PDF 内容 (长度: 38716 字符)</span>"
      ],
      "text/plain": [
       "<IPython.core.display.Markdown object>"
      ]
     },
     "metadata": {},
     "output_type": "display_data"
    },
    {
     "name": "stdout",
     "output_type": "stream",
     "text": [
      "11356\n",
      " Finished reason: stop, completion token: 1628, total token: 12848.\n",
      "\n",
      "Expecting value: line 1 column 1 (char 0), retrying with 128k model...\n",
      "11356\n",
      " Finished reason: stop, completion token: 1686, total token: 12906.\n",
      "\n",
      "Error Expecting value: line 1 column 1 (char 0) with 128k model...\n"
     ]
    },
    {
     "data": {
      "text/markdown": [
       "<span style='color:green;'>✅ 成功处理 11356，耗时 327.52 秒</span>"
      ],
      "text/plain": [
       "<IPython.core.display.Markdown object>"
      ]
     },
     "metadata": {},
     "output_type": "display_data"
    },
    {
     "name": "stderr",
     "output_type": "stream",
     "text": [
      "处理 PDF 文件:  50%|█████     | 4/8 [05:28<05:25, 81.45s/it]"
     ]
    },
    {
     "data": {
      "text/html": [
       "\n",
       "    <div style=\"width:100%;border:1px solid #ccc;padding:3px;margin-bottom:10px\">\n",
       "        <div style=\"width:62.5%;background:#4CAF50;height:20px\"></div>\n",
       "    </div>\n",
       "    <p style=\"font-family:Arial;font-size:12px\">\n",
       "        进度: 5/8 | 已用时: 328.5s | 剩余: 197.1s\n",
       "    </p>\n",
       "    "
      ],
      "text/plain": [
       "<IPython.core.display.HTML object>"
      ]
     },
     "metadata": {},
     "output_type": "display_data"
    },
    {
     "data": {
      "text/markdown": [
       "<span style='color:green;'>✅ 正在处理文件: 北京市再生水补水河流中抗生素的赋存特征及生态风险评估_武亚林.pdf (trimm\\北京市再生水补水河流中抗生素的赋存特征及生态风险评估_武亚林.pdf)</span>"
      ],
      "text/plain": [
       "<IPython.core.display.Markdown object>"
      ]
     },
     "metadata": {},
     "output_type": "display_data"
    },
    {
     "data": {
      "text/markdown": [
       "<span style='color:green;'>✅ 从 trimm\\北京市再生水补水河流中抗生素的赋存特征及生态风险评估_武亚林.pdf 读取 PDF 内容 (长度: 30673 字符)</span>"
      ],
      "text/plain": [
       "<IPython.core.display.Markdown object>"
      ]
     },
     "metadata": {},
     "output_type": "display_data"
    },
    {
     "name": "stdout",
     "output_type": "stream",
     "text": [
      "北京市再生水补水河流中抗生素的赋存特征及生态风险评估_武亚林.pdf\n",
      " Finished reason: length, completion token: 2500, total token: 18006.\n",
      "\n",
      "Unterminated string starting at: line 201 column 18 (char 5344), retrying with 128k model...\n",
      "北京市再生水补水河流中抗生素的赋存特征及生态风险评估_武亚林.pdf\n",
      " Finished reason: stop, completion token: 3085, total token: 18591.\n",
      "\n",
      "Data saved successfully to 北京市再生水补水河流中抗生素的赋存特征及生态风险评估_武亚林.pdf\n"
     ]
    },
    {
     "name": "stderr",
     "output_type": "stream",
     "text": [
      "d:\\anaconda3\\envs\\KimiAI\\Lib\\site-packages\\openpyxl\\workbook\\child.py:99: UserWarning: Title is more than 31 characters. Some applications may not be able to read the file\n",
      "  warnings.warn(\"Title is more than 31 characters. Some applications may not be able to read the file\")\n"
     ]
    },
    {
     "data": {
      "text/markdown": [
       "<span style='color:green;'>✅ 成功处理 北京市再生水补水河流中抗生素的赋存特征及生态风险评估_武亚林.pdf，耗时 474.37 秒</span>"
      ],
      "text/plain": [
       "<IPython.core.display.Markdown object>"
      ]
     },
     "metadata": {},
     "output_type": "display_data"
    },
    {
     "name": "stderr",
     "output_type": "stream",
     "text": [
      "处理 PDF 文件:  62%|██████▎   | 5/8 [07:55<05:15, 105.03s/it]"
     ]
    },
    {
     "data": {
      "text/html": [
       "\n",
       "    <div style=\"width:100%;border:1px solid #ccc;padding:3px;margin-bottom:10px\">\n",
       "        <div style=\"width:75.0%;background:#4CAF50;height:20px\"></div>\n",
       "    </div>\n",
       "    <p style=\"font-family:Arial;font-size:12px\">\n",
       "        进度: 6/8 | 已用时: 475.4s | 剩余: 158.5s\n",
       "    </p>\n",
       "    "
      ],
      "text/plain": [
       "<IPython.core.display.HTML object>"
      ]
     },
     "metadata": {},
     "output_type": "display_data"
    },
    {
     "data": {
      "text/markdown": [
       "<span style='color:green;'>✅ 正在处理文件: 补充材料.pdf (trimm\\补充材料.pdf)</span>"
      ],
      "text/plain": [
       "<IPython.core.display.Markdown object>"
      ]
     },
     "metadata": {},
     "output_type": "display_data"
    },
    {
     "data": {
      "text/markdown": [
       "<span style='color:green;'>✅ 从 trimm\\补充材料.pdf 读取 PDF 内容 (长度: 1952 字符)</span>"
      ],
      "text/plain": [
       "<IPython.core.display.Markdown object>"
      ]
     },
     "metadata": {},
     "output_type": "display_data"
    },
    {
     "name": "stdout",
     "output_type": "stream",
     "text": [
      "补充材料.pdf\n",
      " Finished reason: length, completion token: 2500, total token: 3654.\n",
      "\n",
      "Expecting value: line 1 column 1 (char 0), retrying with 128k model...\n",
      "补充材料.pdf\n",
      " Finished reason: length, completion token: 5000, total token: 6154.\n",
      "\n",
      "Error Unterminated string starting at: line 576 column 24 (char 15269) with 128k model...\n"
     ]
    },
    {
     "data": {
      "text/markdown": [
       "<span style='color:green;'>✅ 成功处理 补充材料.pdf，耗时 631.72 秒</span>"
      ],
      "text/plain": [
       "<IPython.core.display.Markdown object>"
      ]
     },
     "metadata": {},
     "output_type": "display_data"
    },
    {
     "name": "stderr",
     "output_type": "stream",
     "text": [
      "处理 PDF 文件:  75%|███████▌  | 6/8 [10:32<04:05, 122.82s/it]"
     ]
    },
    {
     "data": {
      "text/html": [
       "\n",
       "    <div style=\"width:100%;border:1px solid #ccc;padding:3px;margin-bottom:10px\">\n",
       "        <div style=\"width:87.5%;background:#4CAF50;height:20px\"></div>\n",
       "    </div>\n",
       "    <p style=\"font-family:Arial;font-size:12px\">\n",
       "        进度: 7/8 | 已用时: 632.7s | 剩余: 90.4s\n",
       "    </p>\n",
       "    "
      ],
      "text/plain": [
       "<IPython.core.display.HTML object>"
      ]
     },
     "metadata": {},
     "output_type": "display_data"
    },
    {
     "data": {
      "text/markdown": [
       "<span style='color:green;'>✅ 正在处理文件: 补充材料1.pdf (trimm\\补充材料1.pdf)</span>"
      ],
      "text/plain": [
       "<IPython.core.display.Markdown object>"
      ]
     },
     "metadata": {},
     "output_type": "display_data"
    },
    {
     "data": {
      "text/markdown": [
       "<span style='color:green;'>✅ 从 trimm\\补充材料1.pdf 读取 PDF 内容 (长度: 11931 字符)</span>"
      ],
      "text/plain": [
       "<IPython.core.display.Markdown object>"
      ]
     },
     "metadata": {},
     "output_type": "display_data"
    },
    {
     "name": "stdout",
     "output_type": "stream",
     "text": [
      "补充材料1.pdf\n",
      " Finished reason: stop, completion token: 1835, total token: 7132.\n",
      "\n",
      "Expecting value: line 1 column 1 (char 0), retrying with 128k model...\n",
      "补充材料1.pdf\n",
      " Finished reason: stop, completion token: 1704, total token: 7001.\n",
      "\n",
      "Data saved successfully to 补充材料1.pdf\n"
     ]
    },
    {
     "name": "stderr",
     "output_type": "stream",
     "text": [
      "d:\\anaconda3\\envs\\KimiAI\\Lib\\site-packages\\openpyxl\\workbook\\child.py:99: UserWarning: Title is more than 31 characters. Some applications may not be able to read the file\n",
      "  warnings.warn(\"Title is more than 31 characters. Some applications may not be able to read the file\")\n"
     ]
    },
    {
     "data": {
      "text/markdown": [
       "<span style='color:green;'>✅ 成功处理 补充材料1.pdf，耗时 707.90 秒</span>"
      ],
      "text/plain": [
       "<IPython.core.display.Markdown object>"
      ]
     },
     "metadata": {},
     "output_type": "display_data"
    },
    {
     "name": "stderr",
     "output_type": "stream",
     "text": [
      "处理 PDF 文件:  88%|████████▊ | 7/8 [11:48<01:47, 107.57s/it]"
     ]
    },
    {
     "data": {
      "text/html": [
       "\n",
       "    <div style=\"width:100%;border:1px solid #ccc;padding:3px;margin-bottom:10px\">\n",
       "        <div style=\"width:100.0%;background:#4CAF50;height:20px\"></div>\n",
       "    </div>\n",
       "    <p style=\"font-family:Arial;font-size:12px\">\n",
       "        进度: 8/8 | 已用时: 708.9s | 剩余: 0.0s\n",
       "    </p>\n",
       "    "
      ],
      "text/plain": [
       "<IPython.core.display.HTML object>"
      ]
     },
     "metadata": {},
     "output_type": "display_data"
    },
    {
     "data": {
      "text/markdown": [
       "<span style='color:green;'>✅ 正在处理文件: 补充来料2.pdf (trimm\\补充来料2.pdf)</span>"
      ],
      "text/plain": [
       "<IPython.core.display.Markdown object>"
      ]
     },
     "metadata": {},
     "output_type": "display_data"
    },
    {
     "data": {
      "text/markdown": [
       "<span style='color:green;'>✅ 从 trimm\\补充来料2.pdf 读取 PDF 内容 (长度: 17735 字符)</span>"
      ],
      "text/plain": [
       "<IPython.core.display.Markdown object>"
      ]
     },
     "metadata": {},
     "output_type": "display_data"
    },
    {
     "name": "stdout",
     "output_type": "stream",
     "text": [
      "补充来料2.pdf\n",
      " Finished reason: stop, completion token: 2215, total token: 13609.\n",
      "\n",
      "Data saved successfully to 补充来料2.pdf\n"
     ]
    },
    {
     "name": "stderr",
     "output_type": "stream",
     "text": [
      "d:\\anaconda3\\envs\\KimiAI\\Lib\\site-packages\\openpyxl\\workbook\\child.py:99: UserWarning: Title is more than 31 characters. Some applications may not be able to read the file\n",
      "  warnings.warn(\"Title is more than 31 characters. Some applications may not be able to read the file\")\n"
     ]
    },
    {
     "data": {
      "text/markdown": [
       "<span style='color:green;'>✅ 成功处理 补充来料2.pdf，耗时 753.84 秒</span>"
      ],
      "text/plain": [
       "<IPython.core.display.Markdown object>"
      ]
     },
     "metadata": {},
     "output_type": "display_data"
    },
    {
     "name": "stderr",
     "output_type": "stream",
     "text": [
      "处理 PDF 文件: 100%|██████████| 8/8 [12:34<00:00, 94.34s/it] \n"
     ]
    },
    {
     "data": {
      "text/markdown": [
       "<span style='color:green;'>✅ 所有文件处理完成！总耗时: 754.84秒</span>"
      ],
      "text/plain": [
       "<IPython.core.display.Markdown object>"
      ]
     },
     "metadata": {},
     "output_type": "display_data"
    }
   ],
   "source": [
    "# 配置\n",
    "type = \"3\"\n",
    "prompt = load_info(\"paper/1.prompt/prompt\"+type)\n",
    "excel_file = \"output/output\" + type + \".xlsx\"\n",
    "\n",
    "file_df = pd.read_excel(\"info/file_list.xlsx\")\n",
    "\n",
    "pdf_folder = \"trimm\"\n",
    "\n",
    "# 加载文件列表\n",
    "try:\n",
    "    file_df = pd.read_excel(\"info/file_list.xlsx\")\n",
    "    files_md = \"## 已加载文件列表\\n\"\n",
    "    files_md += \"| 文件名 | 类型 |\\n|--------|------|\\n\"\n",
    "    for _, row in file_df.iterrows():\n",
    "        files_md += f\"| {row['filename']} | {row.get('Type', 'N/A')} |\\n\"\n",
    "    display(Markdown(files_md))\n",
    "    generate_markdown_output(f\"成功加载 {len(file_df)} 个文件\", is_error=False)\n",
    "except Exception as e:\n",
    "    generate_markdown_output(f\"加载 file_list.xlsx 失败: {str(e)}\", is_error=True)  # 显式设置 is_error=True\n",
    "    raise\n",
    "\n",
    "# 检查现有 Excel 工作表以避免重复处理\n",
    "if os.path.exists(excel_file):\n",
    "    sheet_names = pd.ExcelFile(excel_file).sheet_names\n",
    "    generate_markdown_output(f\"在 {excel_file} 中找到 {len(sheet_names)} 个现有工作表\")\n",
    "else:\n",
    "    sheet_names = []\n",
    "    generate_markdown_output(f\"在 {excel_file} 未找到现有 Excel 文件\")\n",
    "\n",
    "# 确保输出目录存在\n",
    "os.makedirs(\"output\", exist_ok=True)\n",
    "\n",
    "# 处理文件\n",
    "total_files = len(file_df)\n",
    "start_time = time.time()\n",
    "\n",
    "for index, row in tqdm(file_df.iterrows(), total=len(file_df), desc=\"处理 PDF 文件\"):\n",
    "    filename = row['filename'].replace('_'+row['Type'], '').strip()\n",
    "\n",
    "    # 更新进度条\n",
    "    elapsed = time.time() - start_time\n",
    "    avg_time = elapsed / (index + 1)\n",
    "    remaining = avg_time * (total_files - index - 1)\n",
    "    show_progress_bar(index + 1, total_files, elapsed, remaining)\n",
    "\n",
    "    if filename not in sheet_names:\n",
    "        pdf_path = os.path.join(pdf_folder, row['filename'])\n",
    "        generate_markdown_output(f\"正在处理文件: {filename} ({pdf_path})\")\n",
    "        \n",
    "        file_start_time = time.time()\n",
    "        try:\n",
    "            # 本地读取 PDF\n",
    "            file_content = read_pdf(pdf_path)\n",
    "            generate_markdown_output(f\"从 {pdf_path} 读取 PDF 内容 (长度: {len(file_content)} 字符)\")\n",
    "            \n",
    "            # 处理文件\n",
    "            process_file(file_content, filename, )\n",
    "            generate_markdown_output(f\"成功处理 {filename}，耗时 {time.time() - start_time:.2f} 秒\")\n",
    "            \n",
    "            # 添加延迟以避免 API 速率限制\n",
    "            time.sleep(1)\n",
    "            \n",
    "        except Exception as e:\n",
    "            generate_markdown_output(f\"处理 {filename} 失败: {str(e)}\",is_error = True)\n",
    "            continue\n",
    "\n",
    "# 最终完成信息\n",
    "generate_markdown_output(f\"所有文件处理完成！总耗时: {time.time() - start_time:.2f}秒\")"
   ]
  }
 ],
 "metadata": {
  "kernelspec": {
   "display_name": "KimiAI",
   "language": "python",
   "name": "python3"
  },
  "language_info": {
   "codemirror_mode": {
    "name": "ipython",
    "version": 3
   },
   "file_extension": ".py",
   "mimetype": "text/x-python",
   "name": "python",
   "nbconvert_exporter": "python",
   "pygments_lexer": "ipython3",
   "version": "3.13.5"
  }
 },
 "nbformat": 4,
 "nbformat_minor": 5
}
